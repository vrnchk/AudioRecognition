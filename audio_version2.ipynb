{
  "nbformat": 4,
  "nbformat_minor": 0,
  "metadata": {
    "colab": {
      "name": "audio_version2.ipynb",
      "provenance": [],
      "collapsed_sections": []
    },
    "kernelspec": {
      "name": "python3",
      "display_name": "Python 3"
    }
  },
  "cells": [
    {
      "cell_type": "markdown",
      "metadata": {
        "id": "j5MZ-xxTzyLl"
      },
      "source": [
        "**Подготовка**\r\n",
        "\r\n",
        "Все необходимые библиотеки загружаются на Gogle Drive, чтобы при перезапуске среды не приходилось заново их устанавливать.\r\n",
        "\r\n",
        "*   pytube - для скачивания видео с youtube\r\n",
        "*   pydub - для работы с самим аудиофайлом: перевод в нужное расширение, деление файла на несколько маленьких по тишине\r\n",
        "*   SpeechRecognition - для перевода аудио в текст\r\n",
        "\r\n",
        "Следующие ячейки с установкой библиотек нужно запустить только один раз, далее при перезапуске они уже будут подключены."
      ]
    },
    {
      "cell_type": "code",
      "metadata": {
        "colab": {
          "base_uri": "https://localhost:8080/"
        },
        "id": "SumZ8WY2cCUe",
        "outputId": "26f56062-fd08-47b5-81e0-ebd85e59b7a2"
      },
      "source": [
        "!apt install ffmpeg"
      ],
      "execution_count": null,
      "outputs": [
        {
          "output_type": "stream",
          "text": [
            "Reading package lists... Done\n",
            "Building dependency tree       \n",
            "Reading state information... Done\n",
            "ffmpeg is already the newest version (7:3.4.8-0ubuntu0.2).\n",
            "0 upgraded, 0 newly installed, 0 to remove and 14 not upgraded.\n"
          ],
          "name": "stdout"
        }
      ]
    },
    {
      "cell_type": "code",
      "metadata": {
        "colab": {
          "base_uri": "https://localhost:8080/"
        },
        "id": "fAPtTKTugZAB",
        "outputId": "ddc56fa6-d801-4f75-bacc-3baf32430942"
      },
      "source": [
        "pip install pytube"
      ],
      "execution_count": null,
      "outputs": [
        {
          "output_type": "stream",
          "text": [
            "Collecting pytube\n",
            "\u001b[?25l  Downloading https://files.pythonhosted.org/packages/63/2d/5b64e61f34d193b718aa39d322eddd7a17a3cc07f56a4b27b107ea234c02/pytube-10.0.0-py3-none-any.whl (40kB)\n",
            "\r\u001b[K     |████████                        | 10kB 12.1MB/s eta 0:00:01\r\u001b[K     |████████████████                | 20kB 11.7MB/s eta 0:00:01\r\u001b[K     |████████████████████████        | 30kB 7.6MB/s eta 0:00:01\r\u001b[K     |████████████████████████████████| 40kB 3.0MB/s \n",
            "\u001b[?25hRequirement already satisfied: typing-extensions in /usr/local/lib/python3.6/dist-packages (from pytube) (3.7.4.3)\n",
            "Installing collected packages: pytube\n",
            "Successfully installed pytube-10.0.0\n"
          ],
          "name": "stdout"
        }
      ]
    },
    {
      "cell_type": "code",
      "metadata": {
        "colab": {
          "base_uri": "https://localhost:8080/"
        },
        "id": "566hAlCdsTf5",
        "outputId": "bbc62705-61a5-4473-c1af-4f2119a0f95f"
      },
      "source": [
        "import os, sys\r\n",
        "from google.colab import drive\r\n",
        "drive.mount('/content/mnt')\r\n",
        "nb_path = '/content/notebooks'\r\n",
        "os.symlink('/content/mnt/My Drive/Colab Notebooks', nb_path)\r\n",
        "sys.path.insert(0, nb_path)  # or append(nb_path)"
      ],
      "execution_count": 41,
      "outputs": [
        {
          "output_type": "stream",
          "text": [
            "Mounted at /content/mnt\n"
          ],
          "name": "stdout"
        }
      ]
    },
    {
      "cell_type": "code",
      "metadata": {
        "colab": {
          "base_uri": "https://localhost:8080/"
        },
        "id": "1HP_E_d0sixD",
        "outputId": "39212e09-a8d0-45fc-8e3f-9b7a036d05b4"
      },
      "source": [
        "!pip install --target=$nb_path youtube_dl"
      ],
      "execution_count": 1,
      "outputs": [
        {
          "output_type": "stream",
          "text": [
            "Requirement already satisfied: youtube_dl in /usr/local/lib/python3.6/dist-packages (2020.12.14)\n"
          ],
          "name": "stdout"
        }
      ]
    },
    {
      "cell_type": "code",
      "metadata": {
        "colab": {
          "base_uri": "https://localhost:8080/"
        },
        "id": "6wNmT7Tmt-p0",
        "outputId": "1a1c2417-7167-43cb-9e15-f6fbdc0bc527"
      },
      "source": [
        "!pip install --target=$nb_path pafy"
      ],
      "execution_count": 2,
      "outputs": [
        {
          "output_type": "stream",
          "text": [
            "Requirement already satisfied: pafy in /usr/local/lib/python3.6/dist-packages (0.5.5)\n"
          ],
          "name": "stdout"
        }
      ]
    },
    {
      "cell_type": "code",
      "metadata": {
        "colab": {
          "base_uri": "https://localhost:8080/"
        },
        "id": "ZW40eriZuCIr",
        "outputId": "283f579e-4c8f-4cbd-b5f9-2226408cf546"
      },
      "source": [
        "!pip install --target=$nb_path SpeechRecognition"
      ],
      "execution_count": null,
      "outputs": [
        {
          "output_type": "stream",
          "text": [
            "Requirement already satisfied: SpeechRecognition in /usr/local/lib/python3.6/dist-packages (3.8.1)\n"
          ],
          "name": "stdout"
        }
      ]
    },
    {
      "cell_type": "code",
      "metadata": {
        "colab": {
          "base_uri": "https://localhost:8080/"
        },
        "id": "1AQz3-c_uG1Q",
        "outputId": "9c009e05-1668-4dfb-866b-9b1e97dd4936"
      },
      "source": [
        "!pip install --target=$nb_path pydub"
      ],
      "execution_count": null,
      "outputs": [
        {
          "output_type": "stream",
          "text": [
            "Requirement already satisfied: pydub in /usr/local/lib/python3.6/dist-packages (0.24.1)\n"
          ],
          "name": "stdout"
        }
      ]
    },
    {
      "cell_type": "code",
      "metadata": {
        "colab": {
          "base_uri": "https://localhost:8080/"
        },
        "id": "Mb8ZgGZmrif0",
        "outputId": "62ae51f7-4e55-4134-d6e8-9a9f4f9c1936"
      },
      "source": [
        "!pip install --target=$nb_path pytube"
      ],
      "execution_count": 3,
      "outputs": [
        {
          "output_type": "stream",
          "text": [
            "Requirement already satisfied: pytube in /usr/local/lib/python3.6/dist-packages (10.0.0)\n",
            "Requirement already satisfied: typing-extensions in /usr/local/lib/python3.6/dist-packages (from pytube) (3.7.4.3)\n"
          ],
          "name": "stdout"
        }
      ]
    },
    {
      "cell_type": "code",
      "metadata": {
        "colab": {
          "base_uri": "https://localhost:8080/"
        },
        "id": "VjMVYH_nryRG",
        "outputId": "23d16bde-af15-4307-928a-22f92871cecf"
      },
      "source": [
        "!apt install ffmpeg"
      ],
      "execution_count": 5,
      "outputs": [
        {
          "output_type": "stream",
          "text": [
            "Reading package lists... Done\n",
            "Building dependency tree       \n",
            "Reading state information... Done\n",
            "ffmpeg is already the newest version (7:3.4.8-0ubuntu0.2).\n",
            "0 upgraded, 0 newly installed, 0 to remove and 14 not upgraded.\n"
          ],
          "name": "stdout"
        }
      ]
    },
    {
      "cell_type": "code",
      "metadata": {
        "colab": {
          "base_uri": "https://localhost:8080/"
        },
        "id": "8laQ8I9uD9s8",
        "outputId": "5736a90b-137b-43a4-8b2a-e3f85fd42e3d"
      },
      "source": [
        "!pip install dostoevsky\r\n",
        "!python -m dostoevsky download fasttext-social-network-model"
      ],
      "execution_count": 13,
      "outputs": [
        {
          "output_type": "stream",
          "text": [
            "Requirement already satisfied: dostoevsky in /usr/local/lib/python3.6/dist-packages (0.5.0)\n",
            "Requirement already satisfied: razdel==0.4.0 in /usr/local/lib/python3.6/dist-packages (from dostoevsky) (0.4.0)\n",
            "Requirement already satisfied: b-labs-models==2017.8.22 in /usr/local/lib/python3.6/dist-packages (from dostoevsky) (2017.8.22)\n",
            "Requirement already satisfied: fasttext==0.9.1 in /usr/local/lib/python3.6/dist-packages (from dostoevsky) (0.9.1)\n",
            "Requirement already satisfied: pymorphy2==0.8 in /usr/local/lib/python3.6/dist-packages (from dostoevsky) (0.8)\n",
            "Requirement already satisfied: russian-tagsets==0.6 in /usr/local/lib/python3.6/dist-packages (from dostoevsky) (0.6)\n",
            "Requirement already satisfied: scikit-learn==0.22.1 in /usr/local/lib/python3.6/dist-packages (from dostoevsky) (0.22.1)\n",
            "Requirement already satisfied: pytest==5.3.5 in /usr/local/lib/python3.6/dist-packages (from dostoevsky) (5.3.5)\n",
            "Requirement already satisfied: python-crfsuite in /usr/local/lib/python3.6/dist-packages (from b-labs-models==2017.8.22->dostoevsky) (0.9.7)\n",
            "Requirement already satisfied: numpy in /usr/local/lib/python3.6/dist-packages (from fasttext==0.9.1->dostoevsky) (1.18.5)\n",
            "Requirement already satisfied: pybind11>=2.2 in /usr/local/lib/python3.6/dist-packages (from fasttext==0.9.1->dostoevsky) (2.6.1)\n",
            "Requirement already satisfied: setuptools>=0.7.0 in /usr/local/lib/python3.6/dist-packages (from fasttext==0.9.1->dostoevsky) (50.3.2)\n",
            "Requirement already satisfied: docopt>=0.6 in /usr/local/lib/python3.6/dist-packages (from pymorphy2==0.8->dostoevsky) (0.6.2)\n",
            "Requirement already satisfied: dawg-python>=0.7 in /usr/local/lib/python3.6/dist-packages (from pymorphy2==0.8->dostoevsky) (0.7.2)\n",
            "Requirement already satisfied: pymorphy2-dicts<3.0,>=2.4 in /usr/local/lib/python3.6/dist-packages (from pymorphy2==0.8->dostoevsky) (2.4.393442.3710985)\n",
            "Requirement already satisfied: scipy>=0.17.0 in /usr/local/lib/python3.6/dist-packages (from scikit-learn==0.22.1->dostoevsky) (1.4.1)\n",
            "Requirement already satisfied: joblib>=0.11 in /usr/local/lib/python3.6/dist-packages (from scikit-learn==0.22.1->dostoevsky) (0.17.0)\n",
            "Requirement already satisfied: packaging in /usr/local/lib/python3.6/dist-packages (from pytest==5.3.5->dostoevsky) (20.7)\n",
            "Requirement already satisfied: attrs>=17.4.0 in /usr/local/lib/python3.6/dist-packages (from pytest==5.3.5->dostoevsky) (20.3.0)\n",
            "Requirement already satisfied: more-itertools>=4.0.0 in /usr/local/lib/python3.6/dist-packages (from pytest==5.3.5->dostoevsky) (8.6.0)\n",
            "Requirement already satisfied: wcwidth in /usr/local/lib/python3.6/dist-packages (from pytest==5.3.5->dostoevsky) (0.2.5)\n",
            "Requirement already satisfied: py>=1.5.0 in /usr/local/lib/python3.6/dist-packages (from pytest==5.3.5->dostoevsky) (1.9.0)\n",
            "Requirement already satisfied: importlib-metadata>=0.12; python_version < \"3.8\" in /usr/local/lib/python3.6/dist-packages (from pytest==5.3.5->dostoevsky) (3.1.1)\n",
            "Requirement already satisfied: pluggy<1.0,>=0.12 in /usr/local/lib/python3.6/dist-packages (from pytest==5.3.5->dostoevsky) (0.13.1)\n",
            "Requirement already satisfied: pyparsing>=2.0.2 in /usr/local/lib/python3.6/dist-packages (from packaging->pytest==5.3.5->dostoevsky) (2.4.7)\n",
            "Requirement already satisfied: zipp>=0.5 in /usr/local/lib/python3.6/dist-packages (from importlib-metadata>=0.12; python_version < \"3.8\"->pytest==5.3.5->dostoevsky) (3.4.0)\n"
          ],
          "name": "stdout"
        }
      ]
    },
    {
      "cell_type": "markdown",
      "metadata": {
        "id": "nYBJAztc0dW7"
      },
      "source": [
        "**Скачивание видео**\r\n",
        "\r\n",
        "Данный код скачивает видео с youtube по ссылке."
      ]
    },
    {
      "cell_type": "code",
      "metadata": {
        "colab": {
          "base_uri": "https://localhost:8080/",
          "height": 35
        },
        "id": "n3-pAIagpOBN",
        "outputId": "bb3f03ff-67fb-4f99-951a-29350ae0de1b"
      },
      "source": [
        "import os\n",
        "os.chdir('/content')\n",
        "from pytube import YouTube\n",
        "\n",
        "YouTube(\"https://www.youtube.com/watch?v=hYNtL7YOUV8\").streams.filter(only_audio=True).first().download(filename='audio')"
      ],
      "execution_count": 1,
      "outputs": [
        {
          "output_type": "execute_result",
          "data": {
            "application/vnd.google.colaboratory.intrinsic+json": {
              "type": "string"
            },
            "text/plain": [
              "'/content/audio.mp4'"
            ]
          },
          "metadata": {
            "tags": []
          },
          "execution_count": 1
        }
      ]
    },
    {
      "cell_type": "markdown",
      "metadata": {
        "id": "0WSXBhjc8bGW"
      },
      "source": [
        "**Получение аудио**\r\n",
        "\r\n",
        "Данный код получает только аудио из видео."
      ]
    },
    {
      "cell_type": "code",
      "metadata": {
        "colab": {
          "base_uri": "https://localhost:8080/"
        },
        "id": "pW-sVgqZfOzr",
        "outputId": "ebb665bc-93d4-4814-9306-fdc4fd0c0428"
      },
      "source": [
        "!ffmpeg -y -i audio.mp4 -ac 1 -f wav audio1.wav"
      ],
      "execution_count": 2,
      "outputs": [
        {
          "output_type": "stream",
          "text": [
            "ffmpeg version 3.4.8-0ubuntu0.2 Copyright (c) 2000-2020 the FFmpeg developers\n",
            "  built with gcc 7 (Ubuntu 7.5.0-3ubuntu1~18.04)\n",
            "  configuration: --prefix=/usr --extra-version=0ubuntu0.2 --toolchain=hardened --libdir=/usr/lib/x86_64-linux-gnu --incdir=/usr/include/x86_64-linux-gnu --enable-gpl --disable-stripping --enable-avresample --enable-avisynth --enable-gnutls --enable-ladspa --enable-libass --enable-libbluray --enable-libbs2b --enable-libcaca --enable-libcdio --enable-libflite --enable-libfontconfig --enable-libfreetype --enable-libfribidi --enable-libgme --enable-libgsm --enable-libmp3lame --enable-libmysofa --enable-libopenjpeg --enable-libopenmpt --enable-libopus --enable-libpulse --enable-librubberband --enable-librsvg --enable-libshine --enable-libsnappy --enable-libsoxr --enable-libspeex --enable-libssh --enable-libtheora --enable-libtwolame --enable-libvorbis --enable-libvpx --enable-libwavpack --enable-libwebp --enable-libx265 --enable-libxml2 --enable-libxvid --enable-libzmq --enable-libzvbi --enable-omx --enable-openal --enable-opengl --enable-sdl2 --enable-libdc1394 --enable-libdrm --enable-libiec61883 --enable-chromaprint --enable-frei0r --enable-libopencv --enable-libx264 --enable-shared\n",
            "  libavutil      55. 78.100 / 55. 78.100\n",
            "  libavcodec     57.107.100 / 57.107.100\n",
            "  libavformat    57. 83.100 / 57. 83.100\n",
            "  libavdevice    57. 10.100 / 57. 10.100\n",
            "  libavfilter     6.107.100 /  6.107.100\n",
            "  libavresample   3.  7.  0 /  3.  7.  0\n",
            "  libswscale      4.  8.100 /  4.  8.100\n",
            "  libswresample   2.  9.100 /  2.  9.100\n",
            "  libpostproc    54.  7.100 / 54.  7.100\n",
            "Input #0, mov,mp4,m4a,3gp,3g2,mj2, from 'audio.mp4':\n",
            "  Metadata:\n",
            "    major_brand     : dash\n",
            "    minor_version   : 0\n",
            "    compatible_brands: iso6mp41\n",
            "    creation_time   : 2019-04-22T00:35:16.000000Z\n",
            "  Duration: 00:12:42.59, start: 0.000000, bitrate: 129 kb/s\n",
            "    Stream #0:0(eng): Audio: aac (LC) (mp4a / 0x6134706D), 44100 Hz, stereo, fltp, 1 kb/s (default)\n",
            "    Metadata:\n",
            "      creation_time   : 2019-04-22T00:35:16.000000Z\n",
            "      handler_name    : ISO Media file produced by Google Inc. Created on: 04/21/2019.\n",
            "Stream mapping:\n",
            "  Stream #0:0 -> #0:0 (aac (native) -> pcm_s16le (native))\n",
            "Press [q] to stop, [?] for help\n",
            "Output #0, wav, to 'audio1.wav':\n",
            "  Metadata:\n",
            "    major_brand     : dash\n",
            "    minor_version   : 0\n",
            "    compatible_brands: iso6mp41\n",
            "    ISFT            : Lavf57.83.100\n",
            "    Stream #0:0(eng): Audio: pcm_s16le ([1][0][0][0] / 0x0001), 44100 Hz, mono, s16, 705 kb/s (default)\n",
            "    Metadata:\n",
            "      creation_time   : 2019-04-22T00:35:16.000000Z\n",
            "      handler_name    : ISO Media file produced by Google Inc. Created on: 04/21/2019.\n",
            "      encoder         : Lavc57.107.100 pcm_s16le\n",
            "size=   65684kB time=00:12:42.58 bitrate= 705.6kbits/s speed= 688x    \n",
            "video:0kB audio:65684kB subtitle:0kB other streams:0kB global headers:0kB muxing overhead: 0.000116%\n"
          ],
          "name": "stdout"
        }
      ]
    },
    {
      "cell_type": "markdown",
      "metadata": {
        "id": "NDJ50PIq2wTR"
      },
      "source": [
        "**Деление аудио**\r\n",
        "\r\n",
        "\r\n"
      ]
    },
    {
      "cell_type": "code",
      "metadata": {
        "id": "c4CixlZW-Qv7"
      },
      "source": [
        "import os\r\n",
        "from pydub import silence, AudioSegment\r\n",
        "import glob\r\n",
        "\r\n",
        "MIN_SILENCE_LEN = 300\r\n",
        "MIN_DURATION = 2000\r\n",
        "DEBUG = 0\r\n",
        "\r\n",
        "os.chdir('/content')\r\n",
        "def read_audio(audio_path):\r\n",
        "    audio = AudioSegment.from_file(audio_path)\r\n",
        "    audio = audio.set_channels(1)\r\n",
        "\r\n",
        "    return audio\r\n",
        "\r\n",
        "\r\n",
        "def concatenate_edges(raw_interval):\r\n",
        "    edges = [raw_interval[0]]\r\n",
        "\r\n",
        "    # concatenate two edges if the interval btw them is too short\r\n",
        "    for idx in range(1, len(raw_interval) - 1):\r\n",
        "        cur_start = raw_interval[idx][0]\r\n",
        "        prev_end = edges[-1][1]\r\n",
        "\r\n",
        "        if cur_start - prev_end < MIN_SILENCE_LEN:\r\n",
        "            edges[-1][1] = raw_interval[idx][1]\r\n",
        "        else:\r\n",
        "            edges.append(raw_interval[idx])\r\n",
        "\r\n",
        "    return edges\r\n",
        "\r\n",
        "\r\n",
        "def get_rid_of_short_intervals(edges):\r\n",
        "    intervals = []\r\n",
        "\r\n",
        "    for idx in range(len(edges)):\r\n",
        "        if edges[idx][1]-edges[idx][0] > MIN_DURATION:\r\n",
        "            intervals.append(edges[idx])\r\n",
        "\r\n",
        "    return intervals\r\n",
        "\r\n",
        "\r\n",
        "def splitAudioBySilence(audio_path, skip_idx=0, out_ext=\"wav\", silence_thresh=-40, silence_chunk_len=100, keep_silence=100):\r\n",
        "    audio = read_audio(audio_path)\r\n",
        "\r\n",
        "    not_silence_ranges = silence.detect_nonsilent(\r\n",
        "        audio, min_silence_len=silence_chunk_len,\r\n",
        "        silence_thresh=silence_thresh)\r\n",
        "\r\n",
        "    edges = concatenate_edges(not_silence_ranges)\r\n",
        "    intervals = get_rid_of_short_intervals(edges)\r\n",
        "\r\n",
        "    try:\r\n",
        "        os.mkdir('audio_chunks6')\r\n",
        "    except(FileExistsError):\r\n",
        "        pass\r\n",
        "    os.chdir('audio_chunks6')\r\n",
        "\r\n",
        "    files = glob.glob('/content/audio_chunks6/*')\r\n",
        "    for f in files:\r\n",
        "        os.remove(f)\r\n",
        "\r\n",
        "    for idx, (start_idx, end_idx) in enumerate(intervals[skip_idx:]):\r\n",
        "        start_idx = max(0, start_idx - keep_silence)\r\n",
        "        end_idx += keep_silence\r\n",
        "        \r\n",
        "        segment = audio[start_idx:end_idx]\r\n",
        "        segment.export(\".//chunk{0}.mp3\".format(idx), out_ext)\r\n",
        "        segment.set_channels(1)\r\n",
        "        segment.export(\".//chunk{0}.wav\".format(idx), format=\"wav\")\r\n",
        "        os.remove(\".//chunk{0}.mp3\".format(idx))\r\n",
        "\r\n",
        "splitAudioBySilence(\"audio1.wav\")"
      ],
      "execution_count": 2,
      "outputs": []
    },
    {
      "cell_type": "markdown",
      "metadata": {
        "id": "eP-SAJIt4u9a"
      },
      "source": [
        "**Скачивание аудио по предложениям и распознавание текста каждого**\r\n",
        "\r\n",
        "С помощью функции recognize_google() распознаем текст. Распознавание от Google - самое качественное и удобное из тех, что предоставляет библиотека SpeechRecognition, поэтому выбрано именно оно. Запись распознанных предложений ведется в файлы."
      ]
    },
    {
      "cell_type": "code",
      "metadata": {
        "id": "qRP6MM9DBjOr",
        "colab": {
          "base_uri": "https://localhost:8080/"
        },
        "outputId": "835ed280-22e3-4c4e-9ec2-0c6a99a1efe6"
      },
      "source": [
        "import speech_recognition as sr\r\n",
        "def recognizeSpeech():\r\n",
        "    os.chdir('/content')\r\n",
        "    try:\r\n",
        "        os.mkdir('sentences')\r\n",
        "    except(FileExistsError):\r\n",
        "        pass\r\n",
        "    files = glob.glob('/content/sentences/*')\r\n",
        "    for f in files:\r\n",
        "        os.remove(f)\r\n",
        "    test = os.listdir(\"audio_chunks6\")\r\n",
        "    for filename in test:\r\n",
        "        if filename.endswith(\".wav\"): \r\n",
        "            r = sr.Recognizer()\r\n",
        "            filenameWithoutFormat = filename[:-4]\r\n",
        "            with sr.AudioFile(\"./audio_chunks6/\" + filename) as source:\r\n",
        "                audio = r.record(source)\r\n",
        "                try:\r\n",
        "                    rec = r.recognize_google(audio, language=\"ru\")\r\n",
        "                    f = open(\"./sentences/\" + filenameWithoutFormat + \"_sentence\" + \".txt\", \"w+\")\r\n",
        "                    f.write(rec)\r\n",
        "                    f.close()\r\n",
        "                except sr.UnknownValueError:\r\n",
        "                    pass\r\n",
        "                    #print(\"Could not understand audio\")\r\n",
        "                except sr.RequestError as e:\r\n",
        "                    print(\"Could not request results. check your internet connection. Error: \", e)\r\n",
        "            continue\r\n",
        "        else:\r\n",
        "            continue\r\n",
        "recognizeSpeech()"
      ],
      "execution_count": 3,
      "outputs": [
        {
          "output_type": "stream",
          "text": [
            "Could not understand audio\n",
            "Could not understand audio\n",
            "Could not understand audio\n",
            "Could not understand audio\n",
            "Could not understand audio\n",
            "Could not understand audio\n"
          ],
          "name": "stdout"
        }
      ]
    },
    {
      "cell_type": "code",
      "metadata": {
        "colab": {
          "base_uri": "https://localhost:8080/"
        },
        "id": "8BRkfFg9Ix8e",
        "outputId": "18a12b2e-c8dd-4111-8473-e7ef0d4dde48"
      },
      "source": [
        "from dostoevsky.tokenization import RegexTokenizer\r\n",
        "from dostoevsky.models import FastTextSocialNetworkModel\r\n",
        "import os\r\n",
        "tokenizer = RegexTokenizer()\r\n",
        "model = FastTextSocialNetworkModel(tokenizer=tokenizer)\r\n",
        "\r\n",
        "os.chdir('/content')\r\n",
        "message = []\r\n",
        "test = os.listdir(\"sentences\")\r\n",
        "i = 0\r\n",
        "os.chdir('sentences')\r\n",
        "for filename in test:\r\n",
        "    try:\r\n",
        "        fh = open(\"chunk\"+str(i)+\"_sentence.txt\", \"r\", encoding=\"utf-8\")\r\n",
        "        message.append(fh.read())\r\n",
        "        fh.close()\r\n",
        "    except:\r\n",
        "        i += 1\r\n",
        "        pass\r\n",
        "\r\n",
        "os.chdir('/content')\r\n",
        "results = model.predict(message, k=1)\r\n",
        "i = 0\r\n",
        "for mes, sentiment in zip(message, results):\r\n",
        "    f = open(\"./sentences/\" + \"chunk\"+str(i)+ \"_sentence.txt\", \"a\")\r\n",
        "    f.write('\\n')\r\n",
        "    f.write(str(sentiment))\r\n",
        "    f.close()\r\n",
        "    i += 1"
      ],
      "execution_count": 4,
      "outputs": [
        {
          "output_type": "stream",
          "text": [
            "\n"
          ],
          "name": "stderr"
        }
      ]
    }
  ]
}