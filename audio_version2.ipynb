{
  "nbformat": 4,
  "nbformat_minor": 0,
  "metadata": {
    "colab": {
      "name": "audio_version2.ipynb",
      "provenance": [],
      "collapsed_sections": []
    },
    "kernelspec": {
      "name": "python3",
      "display_name": "Python 3"
    }
  },
  "cells": [
    {
      "cell_type": "markdown",
      "metadata": {
        "id": "j5MZ-xxTzyLl"
      },
      "source": [
        "**Подготовка**\r\n",
        "\r\n",
        "Все необходимые библиотеки загружаются на Gogle Drive, чтобы при перезапуске среды не приходилось заново их устанавливать.\r\n",
        "\r\n",
        "*   youtube_dl - нужна для работы pafy\r\n",
        "*   pafy - для скачивания аудио из видео с youtube\r\n",
        "*   pydub - для работы с самим аудиофайлом: перевод в нужное расширение, деление файла на несколько маленьких по тишине\r\n",
        "*   SpeechRecognition - для перевода аудио в текст\r\n",
        "\r\n",
        "Следующие ячейки с установкой библиотек нужно запустить только один раз, далее при перезапуске они уже будут подключены."
      ]
    },
    {
      "cell_type": "code",
      "metadata": {
        "colab": {
          "base_uri": "https://localhost:8080/"
        },
        "id": "566hAlCdsTf5",
        "outputId": "9f1841b6-3b22-45e1-f4b8-a5476f7418ae"
      },
      "source": [
        "import os, sys\r\n",
        "from google.colab import drive\r\n",
        "drive.mount('/content/mnt')\r\n",
        "nb_path = '/content/notebooks'\r\n",
        "os.symlink('/content/mnt/My Drive/Colab Notebooks', nb_path)\r\n",
        "sys.path.insert(0, nb_path)  # or append(nb_path)"
      ],
      "execution_count": null,
      "outputs": [
        {
          "output_type": "stream",
          "text": [
            "Mounted at /content/mnt\n"
          ],
          "name": "stdout"
        }
      ]
    },
    {
      "cell_type": "code",
      "metadata": {
        "colab": {
          "base_uri": "https://localhost:8080/"
        },
        "id": "1HP_E_d0sixD",
        "outputId": "8ea2b533-43ac-47a0-8a66-a826a54cad06"
      },
      "source": [
        "!pip install --target=$nb_path youtube_dl"
      ],
      "execution_count": null,
      "outputs": [
        {
          "output_type": "stream",
          "text": [
            "Requirement already satisfied: youtube_dl in /usr/local/lib/python3.6/dist-packages (2020.12.14)\n"
          ],
          "name": "stdout"
        }
      ]
    },
    {
      "cell_type": "code",
      "metadata": {
        "colab": {
          "base_uri": "https://localhost:8080/"
        },
        "id": "6wNmT7Tmt-p0",
        "outputId": "751debe3-1f57-44de-b269-4ed02533506a"
      },
      "source": [
        "!pip install --target=$nb_path pafy"
      ],
      "execution_count": null,
      "outputs": [
        {
          "output_type": "stream",
          "text": [
            "Requirement already satisfied: pafy in /usr/local/lib/python3.6/dist-packages (0.5.5)\n"
          ],
          "name": "stdout"
        }
      ]
    },
    {
      "cell_type": "code",
      "metadata": {
        "colab": {
          "base_uri": "https://localhost:8080/"
        },
        "id": "ZW40eriZuCIr",
        "outputId": "283f579e-4c8f-4cbd-b5f9-2226408cf546"
      },
      "source": [
        "!pip install --target=$nb_path SpeechRecognition"
      ],
      "execution_count": null,
      "outputs": [
        {
          "output_type": "stream",
          "text": [
            "Requirement already satisfied: SpeechRecognition in /usr/local/lib/python3.6/dist-packages (3.8.1)\n"
          ],
          "name": "stdout"
        }
      ]
    },
    {
      "cell_type": "code",
      "metadata": {
        "colab": {
          "base_uri": "https://localhost:8080/"
        },
        "id": "1AQz3-c_uG1Q",
        "outputId": "9c009e05-1668-4dfb-866b-9b1e97dd4936"
      },
      "source": [
        "!pip install --target=$nb_path pydub"
      ],
      "execution_count": null,
      "outputs": [
        {
          "output_type": "stream",
          "text": [
            "Requirement already satisfied: pydub in /usr/local/lib/python3.6/dist-packages (0.24.1)\n"
          ],
          "name": "stdout"
        }
      ]
    },
    {
      "cell_type": "markdown",
      "metadata": {
        "id": "nYBJAztc0dW7"
      },
      "source": [
        "**Получение аудио**\r\n",
        "\r\n",
        "Данный код скачивает аудиодорожку у видео с youtube по ссылке и переименовывает в удобную строку."
      ]
    },
    {
      "cell_type": "code",
      "metadata": {
        "colab": {
          "base_uri": "https://localhost:8080/"
        },
        "id": "n3-pAIagpOBN",
        "outputId": "d54fa5d3-1531-40e6-85ae-f4fb1a1c7990"
      },
      "source": [
        "import pafy\n",
        "import os\n",
        "os.chdir('/content')\n",
        "url = \"https://www.youtube.com/watch?v=_7fsATsADIE\"\n",
        "result = pafy.new(url)\n",
        "best_quality_audio = result.getbestaudio()\n",
        "print(best_quality_audio)\n",
        "best_quality_audio.download()\n",
        "name = result.title\n",
        "name = name.replace('/', '_')\n",
        "name = name.replace('//', '__')\n",
        "os.rename(name+'.webm', 'au.webm')"
      ],
      "execution_count": null,
      "outputs": [
        {
          "output_type": "stream",
          "text": [
            "audio:webm@160k\n",
            "\n"
          ],
          "name": "stdout"
        }
      ]
    },
    {
      "cell_type": "markdown",
      "metadata": {
        "id": "NDJ50PIq2wTR"
      },
      "source": [
        "**Деление аудио**\r\n",
        "\r\n",
        "Сначала меняем расширение у файла, потому что с .webw работа не предусмотрена. Далее с помощью функции split_on_silnce() делим большую дорожку на много маленьких.\r\n",
        "\r\n",
        "Аргументы функции:\r\n",
        "\r\n",
        "*   song - файл с аудио, полученный с помощью функции AudioSegment.from_file()\r\n",
        "*   min_silence_len - время тишины в миллисекундах, по которому делится аудио\r\n",
        "*   silence_thresh - минимальная громкость \r\n",
        "\r\n",
        "После выолнения этого куска кода имеем список chunks, в котором хранятся маленькие аудио.\r\n"
      ]
    },
    {
      "cell_type": "code",
      "metadata": {
        "id": "D0ORB5jopT3t",
        "colab": {
          "base_uri": "https://localhost:8080/",
          "height": 792
        },
        "outputId": "959e5970-dc57-451d-ccd9-75f3e5d711a8"
      },
      "source": [
        "#перевод в формат wav и деление аудио на отрезки по тишине\n",
        "import speech_recognition as sr\n",
        "from os import path\n",
        "import os\n",
        "import pydub\n",
        "from pydub import AudioSegment\n",
        "from pydub.silence import split_on_silence\n",
        "\n",
        "os.chdir('/content')\n",
        "webw_audio = AudioSegment.from_file(\"au.webm\", format=\"webm\")\n",
        "webw_audio.export(\"audio1.wav\", format=\"wav\")\n",
        "#AUDIO_FILE = \"audio1.wav\"\n",
        "path = \"audio1.wav\"\n",
        "song = AudioSegment.from_wav(path)\n",
        "\n",
        "chunks = split_on_silence(song, min_silence_len = 2000, silence_thresh = -19)\n",
        "try:\n",
        "    os.mkdir('audio_chunks6')\n",
        "except(FileExistsError):\n",
        "    pass\n",
        "\n",
        "os.chdir('audio_chunks6')"
      ],
      "execution_count": null,
      "outputs": [
        {
          "output_type": "error",
          "ename": "CouldntDecodeError",
          "evalue": "ignored",
          "traceback": [
            "\u001b[0;31m---------------------------------------------------------------------------\u001b[0m",
            "\u001b[0;31mCouldntDecodeError\u001b[0m                        Traceback (most recent call last)",
            "\u001b[0;32m<ipython-input-7-6e8e8d0cd11e>\u001b[0m in \u001b[0;36m<module>\u001b[0;34m()\u001b[0m\n\u001b[1;32m      8\u001b[0m \u001b[0;34m\u001b[0m\u001b[0m\n\u001b[1;32m      9\u001b[0m \u001b[0mos\u001b[0m\u001b[0;34m.\u001b[0m\u001b[0mchdir\u001b[0m\u001b[0;34m(\u001b[0m\u001b[0;34m'/content'\u001b[0m\u001b[0;34m)\u001b[0m\u001b[0;34m\u001b[0m\u001b[0;34m\u001b[0m\u001b[0m\n\u001b[0;32m---> 10\u001b[0;31m \u001b[0mwebw_audio\u001b[0m \u001b[0;34m=\u001b[0m \u001b[0mAudioSegment\u001b[0m\u001b[0;34m.\u001b[0m\u001b[0mfrom_file\u001b[0m\u001b[0;34m(\u001b[0m\u001b[0;34m\"au.webm\"\u001b[0m\u001b[0;34m,\u001b[0m \u001b[0mformat\u001b[0m\u001b[0;34m=\u001b[0m\u001b[0;34m\"webm\"\u001b[0m\u001b[0;34m)\u001b[0m\u001b[0;34m\u001b[0m\u001b[0;34m\u001b[0m\u001b[0m\n\u001b[0m\u001b[1;32m     11\u001b[0m \u001b[0mwebw_audio\u001b[0m\u001b[0;34m.\u001b[0m\u001b[0mexport\u001b[0m\u001b[0;34m(\u001b[0m\u001b[0;34m\"audio1.wav\"\u001b[0m\u001b[0;34m,\u001b[0m \u001b[0mformat\u001b[0m\u001b[0;34m=\u001b[0m\u001b[0;34m\"wav\"\u001b[0m\u001b[0;34m)\u001b[0m\u001b[0;34m\u001b[0m\u001b[0;34m\u001b[0m\u001b[0m\n\u001b[1;32m     12\u001b[0m \u001b[0;31m#AUDIO_FILE = \"audio1.wav\"\u001b[0m\u001b[0;34m\u001b[0m\u001b[0;34m\u001b[0m\u001b[0;34m\u001b[0m\u001b[0m\n",
            "\u001b[0;32m/usr/local/lib/python3.6/dist-packages/pydub/audio_segment.py\u001b[0m in \u001b[0;36mfrom_file\u001b[0;34m(cls, file, format, codec, parameters, **kwargs)\u001b[0m\n\u001b[1;32m    723\u001b[0m             raise CouldntDecodeError(\n\u001b[1;32m    724\u001b[0m                 \"Decoding failed. ffmpeg returned error code: {0}\\n\\nOutput from ffmpeg/avlib:\\n\\n{1}\".format(\n\u001b[0;32m--> 725\u001b[0;31m                     p.returncode, p_err.decode(errors='ignore') ))\n\u001b[0m\u001b[1;32m    726\u001b[0m \u001b[0;34m\u001b[0m\u001b[0m\n\u001b[1;32m    727\u001b[0m         \u001b[0mp_out\u001b[0m \u001b[0;34m=\u001b[0m \u001b[0mbytearray\u001b[0m\u001b[0;34m(\u001b[0m\u001b[0mp_out\u001b[0m\u001b[0;34m)\u001b[0m\u001b[0;34m\u001b[0m\u001b[0;34m\u001b[0m\u001b[0m\n",
            "\u001b[0;31mCouldntDecodeError\u001b[0m: Decoding failed. ffmpeg returned error code: 1\n\nOutput from ffmpeg/avlib:\n\nffmpeg version 3.4.8-0ubuntu0.2 Copyright (c) 2000-2020 the FFmpeg developers\n  built with gcc 7 (Ubuntu 7.5.0-3ubuntu1~18.04)\n  configuration: --prefix=/usr --extra-version=0ubuntu0.2 --toolchain=hardened --libdir=/usr/lib/x86_64-linux-gnu --incdir=/usr/include/x86_64-linux-gnu --enable-gpl --disable-stripping --enable-avresample --enable-avisynth --enable-gnutls --enable-ladspa --enable-libass --enable-libbluray --enable-libbs2b --enable-libcaca --enable-libcdio --enable-libflite --enable-libfontconfig --enable-libfreetype --enable-libfribidi --enable-libgme --enable-libgsm --enable-libmp3lame --enable-libmysofa --enable-libopenjpeg --enable-libopenmpt --enable-libopus --enable-libpulse --enable-librubberband --enable-librsvg --enable-libshine --enable-libsnappy --enable-libsoxr --enable-libspeex --enable-libssh --enable-libtheora --enable-libtwolame --enable-libvorbis --enable-libvpx --enable-libwavpack --enable-libwebp --enable-libx265 --enable-libxml2 --enable-libxvid --enable-libzmq --enable-libzvbi --enable-omx --enable-openal --enable-opengl --enable-sdl2 --enable-libdc1394 --enable-libdrm --enable-libiec61883 --enable-chromaprint --enable-frei0r --enable-libopencv --enable-libx264 --enable-shared\n  libavutil      55. 78.100 / 55. 78.100\n  libavcodec     57.107.100 / 57.107.100\n  libavformat    57. 83.100 / 57. 83.100\n  libavdevice    57. 10.100 / 57. 10.100\n  libavfilter     6.107.100 /  6.107.100\n  libavresample   3.  7.  0 /  3.  7.  0\n  libswscale      4.  8.100 /  4.  8.100\n  libswresample   2.  9.100 /  2.  9.100\n  libpostproc    54.  7.100 / 54.  7.100\n[matroska,webm @ 0x5647a91b2000] EBML header parsing failed\nau.webm: Invalid data found when processing input\n"
          ]
        }
      ]
    },
    {
      "cell_type": "markdown",
      "metadata": {
        "id": "eP-SAJIt4u9a"
      },
      "source": [
        "**Скачивание аудио по предложениям и распознавание текста каждого**\r\n",
        "\r\n",
        "В цикле сначала определяем кусочек аудио, добавляя к нему в начало и конец немного тишины, чтобы аудиофайлы не казались разрезанными. Далее с помощью функции recognize_google() распознаем текст. Распознавание от Google - самое качественное и удобное из тех, что предоставляет библиотека SpeechRecognition, поэтому выбрано именно оно. Запись распознанных предложений ведется в файлы."
      ]
    },
    {
      "cell_type": "code",
      "metadata": {
        "colab": {
          "base_uri": "https://localhost:8080/"
        },
        "id": "_E0pI-iDhVD8",
        "outputId": "9717e29e-4777-48a4-971a-594115d6a889"
      },
      "source": [
        "fh = open(\"recognized.txt\", \"w\")\n",
        "#os.chdir('audio_chunks6')\n",
        "for i, chunk in enumerate(chunks):\n",
        "    silence_chunk = AudioSegment.silent(duration=500)\n",
        "    audio_chunk = silence_chunk + chunk + silence_chunk\n",
        "    normalized_chunk = match_target_amplitude(audio_chunk, -20.0)\n",
        "    #print(\"Exporting chunk{0}.wav.\".format(i))\n",
        "    normalized_chunk.export(\".//chunk{0}.wav\".format(i), bitrate = \"192k\", format = \"wav\")\n",
        "    filename = 'chunk'+str(i)+'.wav'\n",
        "    #print(\"Processing chunk \"+str(i))\n",
        "    file = filename\n",
        "    r = sr.Recognizer()\n",
        "    # распознать кусок\n",
        "    with sr.AudioFile(file) as source:\n",
        "        audio = r.record(source)\n",
        "    try:\n",
        "        # попробуйте преобразовать его в текст\n",
        "        rec = r.recognize_google(audio, language=\"ru\")\n",
        "        # записать вывод в файл.\n",
        "        fh.write(rec+'\\n')\n",
        "        #print(rec)\n",
        "    except sr.UnknownValueError:\n",
        "        pass\n",
        "        #print(\"Could not understand audio\")\n",
        "    except sr.RequestError as e:\n",
        "        pass\n",
        "        #print(\"Could not request results. check your internet connection\")\n",
        "fh.close()"
      ],
      "execution_count": null,
      "outputs": [
        {
          "output_type": "stream",
          "text": [
            "Exporting chunk0.wav.\n",
            "Processing chunk 0\n",
            "Добрый вечер фильм программа футбольный клуб в студию микрофона Максим курников а по видеосвязи Василию\n",
            "Exporting chunk1.wav.\n",
            "Processing chunk 1\n",
            "естественно про группу и тут мне очень понравилась определение\n",
            "Exporting chunk2.wav.\n",
            "Processing chunk 2\n",
            "тебя потому что насадки начала фамилии одинаковые назад\n",
            "Exporting chunk3.wav.\n",
            "Processing chunk 3\n",
            "Ну так вот Дмитрий курицы знаешь пишет что групп\n",
            "Exporting chunk4.wav.\n",
            "Processing chunk 4\n",
            "не знаю\n",
            "Exporting chunk5.wav.\n",
            "Processing chunk 5\n",
            "Could not understand audio\n",
            "Exporting chunk6.wav.\n",
            "Processing chunk 6\n",
            "по сравнению чтобы не выкладывай я вкладываю что придёт\n",
            "Exporting chunk7.wav.\n",
            "Processing chunk 7\n",
            "по классу по уровню\n",
            "Exporting chunk8.wav.\n",
            "Processing chunk 8\n",
            "Теперь у наших шансов больше потому что в кафе запретили курить\n",
            "Exporting chunk9.wav.\n",
            "Processing chunk 9\n",
            "старых\n",
            "Exporting chunk10.wav.\n",
            "Processing chunk 10\n",
            "тут\n",
            "Exporting chunk11.wav.\n",
            "Processing chunk 11\n",
            "Could not understand audio\n",
            "Exporting chunk12.wav.\n",
            "Processing chunk 12\n",
            "Could not understand audio\n",
            "Exporting chunk13.wav.\n",
            "Processing chunk 13\n",
            "душ\n",
            "Exporting chunk14.wav.\n",
            "Processing chunk 14\n",
            "или может\n",
            "Exporting chunk15.wav.\n",
            "Processing chunk 15\n",
            "поздравок\n",
            "Exporting chunk16.wav.\n",
            "Processing chunk 16\n",
            "Ты знаешь ты сказал чтобы\n",
            "Exporting chunk17.wav.\n",
            "Processing chunk 17\n",
            "Could not understand audio\n",
            "Exporting chunk18.wav.\n",
            "Processing chunk 18\n",
            "просто\n",
            "Exporting chunk19.wav.\n",
            "Processing chunk 19\n",
            "ночной клуб\n",
            "Exporting chunk20.wav.\n",
            "Processing chunk 20\n",
            "Could not understand audio\n",
            "Exporting chunk21.wav.\n",
            "Processing chunk 21\n",
            "опять же если говорить про ЦСКА\n",
            "Exporting chunk22.wav.\n",
            "Processing chunk 22\n",
            "выбор принести в жертву\n",
            "Exporting chunk23.wav.\n",
            "Processing chunk 23\n",
            "извиниться приехал\n",
            "Exporting chunk24.wav.\n",
            "Processing chunk 24\n",
            "не просто провал\n",
            "Exporting chunk25.wav.\n",
            "Processing chunk 25\n",
            "серьёзно\n",
            "Exporting chunk26.wav.\n",
            "Processing chunk 26\n",
            "Could not understand audio\n",
            "Exporting chunk27.wav.\n",
            "Processing chunk 27\n",
            "в этом году\n",
            "Exporting chunk28.wav.\n",
            "Processing chunk 28\n",
            "вопросы нет тут вопросы про дриусси насколько он насвай\n",
            "Exporting chunk29.wav.\n",
            "Processing chunk 29\n",
            "продолжаю статистику то азмун и Дзюба\n",
            "Exporting chunk30.wav.\n",
            "Processing chunk 30\n",
            "в этом смысле\n",
            "Exporting chunk31.wav.\n",
            "Processing chunk 31\n",
            "перейдём к Краснодару потому что\n",
            "Exporting chunk32.wav.\n",
            "Processing chunk 32\n",
            "единство\n",
            "Exporting chunk33.wav.\n",
            "Processing chunk 33\n",
            "Could not understand audio\n",
            "Exporting chunk34.wav.\n",
            "Processing chunk 34\n",
            "и\n",
            "Exporting chunk35.wav.\n",
            "Processing chunk 35\n",
            "и все дела Ну\n",
            "Exporting chunk36.wav.\n",
            "Processing chunk 36\n",
            "Could not understand audio\n",
            "Exporting chunk37.wav.\n",
            "Processing chunk 37\n",
            "Александровка лучше\n",
            "Exporting chunk38.wav.\n",
            "Processing chunk 38\n",
            "Could not understand audio\n",
            "Exporting chunk39.wav.\n",
            "Processing chunk 39\n",
            "После этого у Рубина причём выиграл\n",
            "Exporting chunk40.wav.\n",
            "Processing chunk 40\n",
            "он действительно тот который\n",
            "Exporting chunk41.wav.\n",
            "Processing chunk 41\n",
            "делит вообще\n",
            "Exporting chunk42.wav.\n",
            "Processing chunk 42\n",
            "Could not understand audio\n",
            "Exporting chunk43.wav.\n",
            "Processing chunk 43\n",
            "сегодня\n",
            "Exporting chunk44.wav.\n",
            "Processing chunk 44\n",
            "Could not understand audio\n",
            "Exporting chunk45.wav.\n",
            "Processing chunk 45\n",
            "шутит люди по поводу Сочинского\n",
            "Exporting chunk46.wav.\n",
            "Processing chunk 46\n",
            "сегодня\n",
            "Exporting chunk47.wav.\n",
            "Processing chunk 47\n",
            "Это игрушка Руденко абсолютус\n",
            "Exporting chunk48.wav.\n",
            "Processing chunk 48\n",
            "Ну просто\n",
            "Exporting chunk49.wav.\n",
            "Processing chunk 49\n",
            "нагул\n",
            "Exporting chunk50.wav.\n",
            "Processing chunk 50\n",
            "три вида\n",
            "Exporting chunk51.wav.\n",
            "Processing chunk 51\n",
            "пенальти не забил\n",
            "Exporting chunk52.wav.\n",
            "Processing chunk 52\n",
            "Could not understand audio\n",
            "Exporting chunk53.wav.\n",
            "Processing chunk 53\n",
            "Could not understand audio\n",
            "Exporting chunk54.wav.\n",
            "Processing chunk 54\n",
            "наверняка\n",
            "Exporting chunk55.wav.\n",
            "Processing chunk 55\n",
            "Ну они понимают\n",
            "Exporting chunk56.wav.\n",
            "Processing chunk 56\n",
            "Это Спартак\n",
            "Exporting chunk57.wav.\n",
            "Processing chunk 57\n",
            "да\n",
            "Exporting chunk58.wav.\n",
            "Processing chunk 58\n",
            "Could not understand audio\n",
            "Exporting chunk59.wav.\n",
            "Processing chunk 59\n",
            "делят первое место ну-ну-ну в чём проблема всё нормально всё нормально так Чем приклеить Игорь\n",
            "Exporting chunk60.wav.\n",
            "Processing chunk 60\n",
            "вышел\n",
            "Exporting chunk61.wav.\n",
            "Processing chunk 61\n",
            "Белгород\n",
            "Exporting chunk62.wav.\n",
            "Processing chunk 62\n",
            "ну\n",
            "Exporting chunk63.wav.\n",
            "Processing chunk 63\n",
            "которые пришли а а тут очень много вопросов про Барселону\n",
            "Exporting chunk64.wav.\n",
            "Processing chunk 64\n",
            "Could not understand audio\n",
            "Exporting chunk65.wav.\n",
            "Processing chunk 65\n",
            "переведу\n",
            "Exporting chunk66.wav.\n",
            "Processing chunk 66\n",
            "сезон где в Барселоне в тройке\n",
            "Exporting chunk67.wav.\n",
            "Processing chunk 67\n",
            "Could not understand audio\n",
            "Exporting chunk68.wav.\n",
            "Processing chunk 68\n",
            "тебя портрету Не пора ли ему уходите\n",
            "Exporting chunk69.wav.\n",
            "Processing chunk 69\n",
            "зимний\n",
            "Exporting chunk70.wav.\n",
            "Processing chunk 70\n",
            "Could not understand audio\n",
            "Exporting chunk71.wav.\n",
            "Processing chunk 71\n",
            "Я видел ли\n",
            "Exporting chunk72.wav.\n",
            "Processing chunk 72\n",
            "Варя ау\n",
            "Exporting chunk73.wav.\n",
            "Processing chunk 73\n",
            "да\n",
            "Exporting chunk74.wav.\n",
            "Processing chunk 74\n",
            "я напомню что Ман Юнайтед было вообще\n",
            "Exporting chunk75.wav.\n",
            "Processing chunk 75\n",
            "игра в общем-то в запасе\n",
            "Exporting chunk76.wav.\n",
            "Processing chunk 76\n",
            "это будет да это будет интересно Давай просто ещё напомним что у Ман Юнайтед сайт\n",
            "Exporting chunk77.wav.\n",
            "Processing chunk 77\n",
            "9 очков вон на первом месте у тебя в группе после\n",
            "Exporting chunk78.wav.\n",
            "Processing chunk 78\n",
            "9\n",
            "Exporting chunk79.wav.\n",
            "Processing chunk 79\n",
            "в последнем Туре\n",
            "Exporting chunk80.wav.\n",
            "Processing chunk 80\n",
            "и\n",
            "Exporting chunk81.wav.\n",
            "Processing chunk 81\n",
            "в конце концов\n",
            "Exporting chunk82.wav.\n",
            "Processing chunk 82\n",
            "знает может быть\n",
            "Exporting chunk83.wav.\n",
            "Processing chunk 83\n",
            "Ну и давай ещё\n",
            "Exporting chunk84.wav.\n",
            "Processing chunk 84\n",
            "как ни крути но то что творится\n",
            "Exporting chunk85.wav.\n",
            "Processing chunk 85\n",
            "но в общем два раза обыграть Реал это\n",
            "Exporting chunk86.wav.\n",
            "Processing chunk 86\n",
            "вино\n",
            "Exporting chunk87.wav.\n",
            "Processing chunk 87\n",
            "Да она\n",
            "Exporting chunk88.wav.\n",
            "Processing chunk 88\n",
            "в любовь\n",
            "Exporting chunk89.wav.\n",
            "Processing chunk 89\n",
            "Could not understand audio\n",
            "Exporting chunk90.wav.\n",
            "Processing chunk 90\n",
            "я не убеждён что в любой организации\n",
            "Exporting chunk91.wav.\n",
            "Processing chunk 91\n",
            "давай ещё просто\n",
            "Exporting chunk92.wav.\n",
            "Processing chunk 92\n",
            "дальше\n",
            "Exporting chunk93.wav.\n",
            "Processing chunk 93\n",
            "игры\n",
            "Exporting chunk94.wav.\n",
            "Processing chunk 94\n",
            "Ну я просто скажу что австрийцы благодаря последним\n",
            "Exporting chunk95.wav.\n",
            "Processing chunk 95\n",
            "а Судя по всему\n",
            "Exporting chunk96.wav.\n",
            "Processing chunk 96\n",
            "С уважением\n"
          ],
          "name": "stdout"
        }
      ]
    },
    {
      "cell_type": "code",
      "metadata": {
        "colab": {
          "base_uri": "https://localhost:8080/"
        },
        "id": "MYBAJC2_BeyK",
        "outputId": "b14e5367-aa15-4587-f0c8-8a118afeb195"
      },
      "source": [
        "#pip install dostoevsky"
      ],
      "execution_count": null,
      "outputs": [
        {
          "output_type": "stream",
          "text": [
            "Requirement already satisfied: dostoevsky in /usr/local/lib/python3.6/dist-packages (0.5.0)\n",
            "Requirement already satisfied: razdel==0.4.0 in /usr/local/lib/python3.6/dist-packages (from dostoevsky) (0.4.0)\n",
            "Requirement already satisfied: pytest==5.3.5 in /usr/local/lib/python3.6/dist-packages (from dostoevsky) (5.3.5)\n",
            "Requirement already satisfied: scikit-learn==0.22.1 in /usr/local/lib/python3.6/dist-packages (from dostoevsky) (0.22.1)\n",
            "Requirement already satisfied: russian-tagsets==0.6 in /usr/local/lib/python3.6/dist-packages (from dostoevsky) (0.6)\n",
            "Requirement already satisfied: pymorphy2==0.8 in /usr/local/lib/python3.6/dist-packages (from dostoevsky) (0.8)\n",
            "Requirement already satisfied: fasttext==0.9.1 in /usr/local/lib/python3.6/dist-packages (from dostoevsky) (0.9.1)\n",
            "Requirement already satisfied: b-labs-models==2017.8.22 in /usr/local/lib/python3.6/dist-packages (from dostoevsky) (2017.8.22)\n",
            "Requirement already satisfied: py>=1.5.0 in /usr/local/lib/python3.6/dist-packages (from pytest==5.3.5->dostoevsky) (1.9.0)\n",
            "Requirement already satisfied: importlib-metadata>=0.12; python_version < \"3.8\" in /usr/local/lib/python3.6/dist-packages (from pytest==5.3.5->dostoevsky) (2.0.0)\n",
            "Requirement already satisfied: attrs>=17.4.0 in /usr/local/lib/python3.6/dist-packages (from pytest==5.3.5->dostoevsky) (20.3.0)\n",
            "Requirement already satisfied: packaging in /usr/local/lib/python3.6/dist-packages (from pytest==5.3.5->dostoevsky) (20.4)\n",
            "Requirement already satisfied: more-itertools>=4.0.0 in /usr/local/lib/python3.6/dist-packages (from pytest==5.3.5->dostoevsky) (8.6.0)\n",
            "Requirement already satisfied: wcwidth in /usr/local/lib/python3.6/dist-packages (from pytest==5.3.5->dostoevsky) (0.2.5)\n",
            "Requirement already satisfied: pluggy<1.0,>=0.12 in /usr/local/lib/python3.6/dist-packages (from pytest==5.3.5->dostoevsky) (0.13.1)\n",
            "Requirement already satisfied: scipy>=0.17.0 in /usr/local/lib/python3.6/dist-packages (from scikit-learn==0.22.1->dostoevsky) (1.4.1)\n",
            "Requirement already satisfied: numpy>=1.11.0 in /usr/local/lib/python3.6/dist-packages (from scikit-learn==0.22.1->dostoevsky) (1.18.5)\n",
            "Requirement already satisfied: joblib>=0.11 in /usr/local/lib/python3.6/dist-packages (from scikit-learn==0.22.1->dostoevsky) (0.17.0)\n",
            "Requirement already satisfied: docopt>=0.6 in /usr/local/lib/python3.6/dist-packages (from pymorphy2==0.8->dostoevsky) (0.6.2)\n",
            "Requirement already satisfied: dawg-python>=0.7 in /usr/local/lib/python3.6/dist-packages (from pymorphy2==0.8->dostoevsky) (0.7.2)\n",
            "Requirement already satisfied: pymorphy2-dicts<3.0,>=2.4 in /usr/local/lib/python3.6/dist-packages (from pymorphy2==0.8->dostoevsky) (2.4.393442.3710985)\n",
            "Requirement already satisfied: setuptools>=0.7.0 in /usr/local/lib/python3.6/dist-packages (from fasttext==0.9.1->dostoevsky) (50.3.2)\n",
            "Requirement already satisfied: pybind11>=2.2 in /usr/local/lib/python3.6/dist-packages (from fasttext==0.9.1->dostoevsky) (2.6.1)\n",
            "Requirement already satisfied: python-crfsuite in /usr/local/lib/python3.6/dist-packages (from b-labs-models==2017.8.22->dostoevsky) (0.9.7)\n",
            "Requirement already satisfied: zipp>=0.5 in /usr/local/lib/python3.6/dist-packages (from importlib-metadata>=0.12; python_version < \"3.8\"->pytest==5.3.5->dostoevsky) (3.4.0)\n",
            "Requirement already satisfied: pyparsing>=2.0.2 in /usr/local/lib/python3.6/dist-packages (from packaging->pytest==5.3.5->dostoevsky) (2.4.7)\n",
            "Requirement already satisfied: six in /usr/local/lib/python3.6/dist-packages (from packaging->pytest==5.3.5->dostoevsky) (1.15.0)\n"
          ],
          "name": "stdout"
        }
      ]
    },
    {
      "cell_type": "code",
      "metadata": {
        "colab": {
          "base_uri": "https://localhost:8080/",
          "height": 408
        },
        "id": "wiQxlugVCLCV",
        "outputId": "5cdff394-cb97-4288-e900-5500a4dd8a12"
      },
      "source": [
        "# from dostoevsky.tokenization import RegexTokenizer\r\n",
        "# from dostoevsky.models import FastTextSocialNetworkModel\r\n",
        "# tokenizer = RegexTokenizer()\r\n",
        "# model = FastTextSocialNetworkModel(tokenizer=tokenizer)\r\n",
        "\r\n",
        "# message = [\r\n",
        "#     'хороших снов',\r\n",
        "# ]\r\n",
        "\r\n",
        "# results = model.predict(message, k=1)\r\n",
        "# for mes, sentiment in zip(message, results):\r\n",
        "#     for key in sentiment:\r\n",
        "#         print(key)"
      ],
      "execution_count": null,
      "outputs": [
        {
          "output_type": "stream",
          "text": [
            "\n"
          ],
          "name": "stderr"
        },
        {
          "output_type": "error",
          "ename": "ValueError",
          "evalue": "ignored",
          "traceback": [
            "\u001b[0;31m---------------------------------------------------------------------------\u001b[0m",
            "\u001b[0;31mValueError\u001b[0m                                Traceback (most recent call last)",
            "\u001b[0;32m<ipython-input-55-8183df9aad8d>\u001b[0m in \u001b[0;36m<module>\u001b[0;34m()\u001b[0m\n\u001b[1;32m      2\u001b[0m \u001b[0;32mfrom\u001b[0m \u001b[0mdostoevsky\u001b[0m\u001b[0;34m.\u001b[0m\u001b[0mmodels\u001b[0m \u001b[0;32mimport\u001b[0m \u001b[0mFastTextSocialNetworkModel\u001b[0m\u001b[0;34m\u001b[0m\u001b[0;34m\u001b[0m\u001b[0m\n\u001b[1;32m      3\u001b[0m \u001b[0mtokenizer\u001b[0m \u001b[0;34m=\u001b[0m \u001b[0mRegexTokenizer\u001b[0m\u001b[0;34m(\u001b[0m\u001b[0;34m)\u001b[0m\u001b[0;34m\u001b[0m\u001b[0;34m\u001b[0m\u001b[0m\n\u001b[0;32m----> 4\u001b[0;31m \u001b[0mmodel\u001b[0m \u001b[0;34m=\u001b[0m \u001b[0mFastTextSocialNetworkModel\u001b[0m\u001b[0;34m(\u001b[0m\u001b[0mtokenizer\u001b[0m\u001b[0;34m=\u001b[0m\u001b[0mtokenizer\u001b[0m\u001b[0;34m)\u001b[0m\u001b[0;34m\u001b[0m\u001b[0;34m\u001b[0m\u001b[0m\n\u001b[0m\u001b[1;32m      5\u001b[0m \u001b[0;34m\u001b[0m\u001b[0m\n\u001b[1;32m      6\u001b[0m message = [\n",
            "\u001b[0;32m/usr/local/lib/python3.6/dist-packages/dostoevsky/models.py\u001b[0m in \u001b[0;36m__init__\u001b[0;34m(self, tokenizer, lemmatize)\u001b[0m\n\u001b[1;32m     63\u001b[0m             \u001b[0mlemmatize\u001b[0m\u001b[0;34m=\u001b[0m\u001b[0mlemmatize\u001b[0m\u001b[0;34m,\u001b[0m\u001b[0;34m\u001b[0m\u001b[0;34m\u001b[0m\u001b[0m\n\u001b[1;32m     64\u001b[0m             \u001b[0mmodel_path\u001b[0m\u001b[0;34m=\u001b[0m\u001b[0mself\u001b[0m\u001b[0;34m.\u001b[0m\u001b[0mMODEL_PATH\u001b[0m\u001b[0;34m,\u001b[0m\u001b[0;34m\u001b[0m\u001b[0;34m\u001b[0m\u001b[0m\n\u001b[0;32m---> 65\u001b[0;31m             \u001b[0mcorpus\u001b[0m\u001b[0;34m=\u001b[0m\u001b[0;32mNone\u001b[0m\u001b[0;34m\u001b[0m\u001b[0;34m\u001b[0m\u001b[0m\n\u001b[0m\u001b[1;32m     66\u001b[0m         )\n\u001b[1;32m     67\u001b[0m \u001b[0;34m\u001b[0m\u001b[0m\n",
            "\u001b[0;32m/usr/local/lib/python3.6/dist-packages/dostoevsky/models.py\u001b[0m in \u001b[0;36m__init__\u001b[0;34m(self, tokenizer, lemmatize, model_path, corpus)\u001b[0m\n\u001b[1;32m     25\u001b[0m         self.model = (\n\u001b[1;32m     26\u001b[0m             \u001b[0mself\u001b[0m\u001b[0;34m.\u001b[0m\u001b[0mget_compiled_model\u001b[0m\u001b[0;34m(\u001b[0m\u001b[0;34m)\u001b[0m\u001b[0;34m\u001b[0m\u001b[0;34m\u001b[0m\u001b[0m\n\u001b[0;32m---> 27\u001b[0;31m             \u001b[0;32mif\u001b[0m \u001b[0mself\u001b[0m\u001b[0;34m.\u001b[0m\u001b[0mmodel_path\u001b[0m\u001b[0;34m\u001b[0m\u001b[0;34m\u001b[0m\u001b[0m\n\u001b[0m\u001b[1;32m     28\u001b[0m             \u001b[0;32melse\u001b[0m \u001b[0mself\u001b[0m\u001b[0;34m.\u001b[0m\u001b[0mget_raw_model\u001b[0m\u001b[0;34m(\u001b[0m\u001b[0;34m)\u001b[0m\u001b[0;34m\u001b[0m\u001b[0;34m\u001b[0m\u001b[0m\n\u001b[1;32m     29\u001b[0m         )\n",
            "\u001b[0;32m/usr/local/lib/python3.6/dist-packages/dostoevsky/models.py\u001b[0m in \u001b[0;36mget_compiled_model\u001b[0;34m(self)\u001b[0m\n\u001b[1;32m     67\u001b[0m \u001b[0;34m\u001b[0m\u001b[0m\n\u001b[1;32m     68\u001b[0m     \u001b[0;32mdef\u001b[0m \u001b[0mget_compiled_model\u001b[0m\u001b[0;34m(\u001b[0m\u001b[0mself\u001b[0m\u001b[0;34m)\u001b[0m\u001b[0;34m:\u001b[0m\u001b[0;34m\u001b[0m\u001b[0;34m\u001b[0m\u001b[0m\n\u001b[0;32m---> 69\u001b[0;31m         \u001b[0;32mreturn\u001b[0m \u001b[0mload_fasttext_model\u001b[0m\u001b[0;34m(\u001b[0m\u001b[0mself\u001b[0m\u001b[0;34m.\u001b[0m\u001b[0mMODEL_PATH\u001b[0m\u001b[0;34m)\u001b[0m\u001b[0;34m\u001b[0m\u001b[0;34m\u001b[0m\u001b[0m\n\u001b[0m\u001b[1;32m     70\u001b[0m \u001b[0;34m\u001b[0m\u001b[0m\n\u001b[1;32m     71\u001b[0m     \u001b[0;32mdef\u001b[0m \u001b[0mpreprocess_input\u001b[0m\u001b[0;34m(\u001b[0m\u001b[0mself\u001b[0m\u001b[0;34m,\u001b[0m \u001b[0msentences\u001b[0m\u001b[0;34m:\u001b[0m \u001b[0mList\u001b[0m\u001b[0;34m[\u001b[0m\u001b[0mstr\u001b[0m\u001b[0;34m]\u001b[0m\u001b[0;34m)\u001b[0m \u001b[0;34m->\u001b[0m \u001b[0mList\u001b[0m\u001b[0;34m[\u001b[0m\u001b[0mstr\u001b[0m\u001b[0;34m]\u001b[0m\u001b[0;34m:\u001b[0m\u001b[0;34m\u001b[0m\u001b[0;34m\u001b[0m\u001b[0m\n",
            "\u001b[0;32m/usr/local/lib/python3.6/dist-packages/fasttext/FastText.py\u001b[0m in \u001b[0;36mload_model\u001b[0;34m(path)\u001b[0m\n\u001b[1;32m    348\u001b[0m     \u001b[0;34m\"\"\"Load a model given a filepath and return a model object.\"\"\"\u001b[0m\u001b[0;34m\u001b[0m\u001b[0;34m\u001b[0m\u001b[0m\n\u001b[1;32m    349\u001b[0m     \u001b[0meprint\u001b[0m\u001b[0;34m(\u001b[0m\u001b[0;34m\"Warning : `load_model` does not return WordVectorModel or SupervisedModel any more, but a `FastText` object which is very similar.\"\u001b[0m\u001b[0;34m)\u001b[0m\u001b[0;34m\u001b[0m\u001b[0;34m\u001b[0m\u001b[0m\n\u001b[0;32m--> 350\u001b[0;31m     \u001b[0;32mreturn\u001b[0m \u001b[0m_FastText\u001b[0m\u001b[0;34m(\u001b[0m\u001b[0mmodel_path\u001b[0m\u001b[0;34m=\u001b[0m\u001b[0mpath\u001b[0m\u001b[0;34m)\u001b[0m\u001b[0;34m\u001b[0m\u001b[0;34m\u001b[0m\u001b[0m\n\u001b[0m\u001b[1;32m    351\u001b[0m \u001b[0;34m\u001b[0m\u001b[0m\n\u001b[1;32m    352\u001b[0m \u001b[0;34m\u001b[0m\u001b[0m\n",
            "\u001b[0;32m/usr/local/lib/python3.6/dist-packages/fasttext/FastText.py\u001b[0m in \u001b[0;36m__init__\u001b[0;34m(self, model_path, args)\u001b[0m\n\u001b[1;32m     41\u001b[0m         \u001b[0mself\u001b[0m\u001b[0;34m.\u001b[0m\u001b[0mf\u001b[0m \u001b[0;34m=\u001b[0m \u001b[0mfasttext\u001b[0m\u001b[0;34m.\u001b[0m\u001b[0mfasttext\u001b[0m\u001b[0;34m(\u001b[0m\u001b[0;34m)\u001b[0m\u001b[0;34m\u001b[0m\u001b[0;34m\u001b[0m\u001b[0m\n\u001b[1;32m     42\u001b[0m         \u001b[0;32mif\u001b[0m \u001b[0mmodel_path\u001b[0m \u001b[0;32mis\u001b[0m \u001b[0;32mnot\u001b[0m \u001b[0;32mNone\u001b[0m\u001b[0;34m:\u001b[0m\u001b[0;34m\u001b[0m\u001b[0;34m\u001b[0m\u001b[0m\n\u001b[0;32m---> 43\u001b[0;31m             \u001b[0mself\u001b[0m\u001b[0;34m.\u001b[0m\u001b[0mf\u001b[0m\u001b[0;34m.\u001b[0m\u001b[0mloadModel\u001b[0m\u001b[0;34m(\u001b[0m\u001b[0mmodel_path\u001b[0m\u001b[0;34m)\u001b[0m\u001b[0;34m\u001b[0m\u001b[0;34m\u001b[0m\u001b[0m\n\u001b[0m\u001b[1;32m     44\u001b[0m         \u001b[0mself\u001b[0m\u001b[0;34m.\u001b[0m\u001b[0m_words\u001b[0m \u001b[0;34m=\u001b[0m \u001b[0;32mNone\u001b[0m\u001b[0;34m\u001b[0m\u001b[0;34m\u001b[0m\u001b[0m\n\u001b[1;32m     45\u001b[0m         \u001b[0mself\u001b[0m\u001b[0;34m.\u001b[0m\u001b[0m_labels\u001b[0m \u001b[0;34m=\u001b[0m \u001b[0;32mNone\u001b[0m\u001b[0;34m\u001b[0m\u001b[0;34m\u001b[0m\u001b[0m\n",
            "\u001b[0;31mValueError\u001b[0m: /usr/local/lib/python3.6/dist-packages/dostoevsky/data/models/fasttext-social-network-model.bin cannot be opened for loading!"
          ]
        }
      ]
    }
  ]
}